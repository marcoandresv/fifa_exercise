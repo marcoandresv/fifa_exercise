{
 "cells": [
  {
   "cell_type": "markdown",
   "id": "227e39a4",
   "metadata": {},
   "source": [
    "## Ejercicio manejo de datos y Limpieza\n",
    "\n",
    " - Importa los datos de FIFA.csv, Contienen información de jugadores de futbol\n",
    " - Realiza una limpieza de datos:\n",
    "   - ¿De qué formato son nuestras variables? ¿cuántas líneas y columnas tiene el dataset?\n",
    "   - Cambia las medidas de las variables Weight y Height a Kg y cm\n",
    "   - Elimina el \"+1\", \"+2\"... de las variables CDM, RDM... y todas las columnas que están al final, sin tener que ir una por una. Apóyate en métodos como split, replace...\n",
    "   - Arregla también las variables W/F, SM, IR\n",
    "   - Para posteriormente hacer un buen análisis de datos por posición del jugador sería recomendable agrupar o normalizar las posiciones (BP, Best Position) en Portero, Defensa, Mediocampista y delantero. Quizás lo mejor sería crear una función posiciones_jugadores y dependiendo de la BP de cada uno que la nueva variable tome uno de esos 4 valores.\n",
    "   - También vamos a querer calcular algunas métricas sobre el valor de los jugadores, Transforma las variables Value y Wage de manera que sea un entero y podamos calcular la suma y la media por equipo, posición, nacionalidad...\n",
    " - Tratamiento de valores nulos:\n",
    "   - Localiza las variables que tienen valores nulos y cuenta cuántos tiene cada una de ellas\n",
    "   - Decide qué hacer con ellos, si eliminarlos, imputarles un valor fijo, imputarles un valor en función de alguna condición...\n",
    " - Valores extremos\n",
    "   - Localiza si las variables numéricas toman valores demasiado elevados o bajos, usa la función describe y pinta gráficos\n",
    "   - Si existe alguno que sea absurdo (por ejemplo una altura en negativo) corrígelo. Si no, trátalo de la manera que más nos convenga para un futuro análisis exploratorio, por ejemplo limítalo a un valor más bajo.\n",
    " - Análisis descriptivo\n",
    "   - Una vez tenemos nuestros datos limpios de irregularidades, de valores nulos y erróneos podemos emepezar a analizar su contenido\n",
    "   - Compara las variables numéricas en función de variables categóricas, como su posición. Respóndete a preguntas tales como qué jugadores son más caros, más altos... Para ello representa una tabla con la suma, la media y la cuenta para cada posición. También dibuja un gráfico que consideres el más conveniente para analizar la misma información visualmente.\n",
    "   - OVA representa una valoración general del jugador, analiza si tiene alguna relación con otras columnas referentes a la calidad como Attacking, Defending... A mayor OVA mayor Value?"
   ]
  },
  {
   "cell_type": "code",
   "execution_count": 1,
   "id": "3137cfd8",
   "metadata": {},
   "outputs": [],
   "source": [
    "import pandas as pd"
   ]
  },
  {
   "cell_type": "code",
   "execution_count": 2,
   "id": "b7d62252",
   "metadata": {},
   "outputs": [
    {
     "data": {
      "text/html": [
       "<div>\n",
       "<style scoped>\n",
       "    .dataframe tbody tr th:only-of-type {\n",
       "        vertical-align: middle;\n",
       "    }\n",
       "\n",
       "    .dataframe tbody tr th {\n",
       "        vertical-align: top;\n",
       "    }\n",
       "\n",
       "    .dataframe thead th {\n",
       "        text-align: right;\n",
       "    }\n",
       "</style>\n",
       "<table border=\"1\" class=\"dataframe\">\n",
       "  <thead>\n",
       "    <tr style=\"text-align: right;\">\n",
       "      <th></th>\n",
       "      <th>Unnamed: 0</th>\n",
       "      <th>ID</th>\n",
       "      <th>Name</th>\n",
       "      <th>Age</th>\n",
       "      <th>Nationality</th>\n",
       "      <th>Club</th>\n",
       "      <th>BP</th>\n",
       "      <th>Position</th>\n",
       "      <th>Team &amp; Contract</th>\n",
       "      <th>Height</th>\n",
       "      <th>...</th>\n",
       "      <th>CDM</th>\n",
       "      <th>RDM</th>\n",
       "      <th>RWB</th>\n",
       "      <th>LB</th>\n",
       "      <th>LCB</th>\n",
       "      <th>CB</th>\n",
       "      <th>RCB</th>\n",
       "      <th>RB</th>\n",
       "      <th>GK</th>\n",
       "      <th>OVA</th>\n",
       "    </tr>\n",
       "  </thead>\n",
       "  <tbody>\n",
       "    <tr>\n",
       "      <th>0</th>\n",
       "      <td>1954</td>\n",
       "      <td>184383</td>\n",
       "      <td>A. Pasche</td>\n",
       "      <td>26</td>\n",
       "      <td>Switzerland</td>\n",
       "      <td>FC Lausanne-Sport</td>\n",
       "      <td>CM</td>\n",
       "      <td>CM CDM</td>\n",
       "      <td>FC Lausanne-Sport 2015 ~ 2020</td>\n",
       "      <td>5'9\"</td>\n",
       "      <td>...</td>\n",
       "      <td>59+1</td>\n",
       "      <td>59+1</td>\n",
       "      <td>59+1</td>\n",
       "      <td>58+1</td>\n",
       "      <td>54+1</td>\n",
       "      <td>54+1</td>\n",
       "      <td>54+1</td>\n",
       "      <td>58+1</td>\n",
       "      <td>15+1</td>\n",
       "      <td>64</td>\n",
       "    </tr>\n",
       "    <tr>\n",
       "      <th>1</th>\n",
       "      <td>2225</td>\n",
       "      <td>188044</td>\n",
       "      <td>Alan Carvalho</td>\n",
       "      <td>30</td>\n",
       "      <td>China PR</td>\n",
       "      <td>Beijing Sinobo Guoan FC</td>\n",
       "      <td>ST</td>\n",
       "      <td>ST LW LM</td>\n",
       "      <td>Beijing Sinobo Guoan FC Dec 31, 2020 On Loan</td>\n",
       "      <td>6'0\"</td>\n",
       "      <td>...</td>\n",
       "      <td>53+2</td>\n",
       "      <td>53+2</td>\n",
       "      <td>57+2</td>\n",
       "      <td>53+2</td>\n",
       "      <td>48+2</td>\n",
       "      <td>48+2</td>\n",
       "      <td>48+2</td>\n",
       "      <td>53+2</td>\n",
       "      <td>18+2</td>\n",
       "      <td>77</td>\n",
       "    </tr>\n",
       "    <tr>\n",
       "      <th>2</th>\n",
       "      <td>1959</td>\n",
       "      <td>184431</td>\n",
       "      <td>S. Giovinco</td>\n",
       "      <td>33</td>\n",
       "      <td>Italy</td>\n",
       "      <td>Al Hilal</td>\n",
       "      <td>CAM</td>\n",
       "      <td>CAM CF</td>\n",
       "      <td>Al Hilal 2019 ~ 2022</td>\n",
       "      <td>5'4\"</td>\n",
       "      <td>...</td>\n",
       "      <td>56+2</td>\n",
       "      <td>56+2</td>\n",
       "      <td>59+2</td>\n",
       "      <td>53+2</td>\n",
       "      <td>41+2</td>\n",
       "      <td>41+2</td>\n",
       "      <td>41+2</td>\n",
       "      <td>53+2</td>\n",
       "      <td>12+2</td>\n",
       "      <td>80</td>\n",
       "    </tr>\n",
       "    <tr>\n",
       "      <th>3</th>\n",
       "      <td>9815</td>\n",
       "      <td>233796</td>\n",
       "      <td>J. Evans</td>\n",
       "      <td>22</td>\n",
       "      <td>Wales</td>\n",
       "      <td>Swansea City</td>\n",
       "      <td>CDM</td>\n",
       "      <td>CDM CM</td>\n",
       "      <td>Swansea City 2016 ~ 2021</td>\n",
       "      <td>5'10\"</td>\n",
       "      <td>...</td>\n",
       "      <td>58+2</td>\n",
       "      <td>58+2</td>\n",
       "      <td>56+2</td>\n",
       "      <td>57+2</td>\n",
       "      <td>58+2</td>\n",
       "      <td>58+2</td>\n",
       "      <td>58+2</td>\n",
       "      <td>57+2</td>\n",
       "      <td>14+2</td>\n",
       "      <td>59</td>\n",
       "    </tr>\n",
       "    <tr>\n",
       "      <th>4</th>\n",
       "      <td>10074</td>\n",
       "      <td>234799</td>\n",
       "      <td>Y. Demoncy</td>\n",
       "      <td>23</td>\n",
       "      <td>France</td>\n",
       "      <td>US Orléans Loiret Football</td>\n",
       "      <td>CDM</td>\n",
       "      <td>CDM CM</td>\n",
       "      <td>US Orléans Loiret Football 2018 ~ 2021</td>\n",
       "      <td>5'11\"</td>\n",
       "      <td>...</td>\n",
       "      <td>64+2</td>\n",
       "      <td>64+2</td>\n",
       "      <td>64+2</td>\n",
       "      <td>63+2</td>\n",
       "      <td>61+2</td>\n",
       "      <td>61+2</td>\n",
       "      <td>61+2</td>\n",
       "      <td>63+2</td>\n",
       "      <td>15+2</td>\n",
       "      <td>65</td>\n",
       "    </tr>\n",
       "  </tbody>\n",
       "</table>\n",
       "<p>5 rows × 102 columns</p>\n",
       "</div>"
      ],
      "text/plain": [
       "   Unnamed: 0      ID           Name  Age  Nationality  \\\n",
       "0        1954  184383      A. Pasche   26  Switzerland   \n",
       "1        2225  188044  Alan Carvalho   30     China PR   \n",
       "2        1959  184431    S. Giovinco   33        Italy   \n",
       "3        9815  233796       J. Evans   22        Wales   \n",
       "4       10074  234799     Y. Demoncy   23       France   \n",
       "\n",
       "                         Club   BP  Position  \\\n",
       "0           FC Lausanne-Sport   CM    CM CDM   \n",
       "1     Beijing Sinobo Guoan FC   ST  ST LW LM   \n",
       "2                    Al Hilal  CAM    CAM CF   \n",
       "3                Swansea City  CDM    CDM CM   \n",
       "4  US Orléans Loiret Football  CDM    CDM CM   \n",
       "\n",
       "                                Team & Contract Height  ...   CDM   RDM   RWB  \\\n",
       "0                 FC Lausanne-Sport 2015 ~ 2020   5'9\"  ...  59+1  59+1  59+1   \n",
       "1  Beijing Sinobo Guoan FC Dec 31, 2020 On Loan   6'0\"  ...  53+2  53+2  57+2   \n",
       "2                          Al Hilal 2019 ~ 2022   5'4\"  ...  56+2  56+2  59+2   \n",
       "3                      Swansea City 2016 ~ 2021  5'10\"  ...  58+2  58+2  56+2   \n",
       "4        US Orléans Loiret Football 2018 ~ 2021  5'11\"  ...  64+2  64+2  64+2   \n",
       "\n",
       "     LB   LCB    CB   RCB    RB    GK  OVA  \n",
       "0  58+1  54+1  54+1  54+1  58+1  15+1   64  \n",
       "1  53+2  48+2  48+2  48+2  53+2  18+2   77  \n",
       "2  53+2  41+2  41+2  41+2  53+2  12+2   80  \n",
       "3  57+2  58+2  58+2  58+2  57+2  14+2   59  \n",
       "4  63+2  61+2  61+2  61+2  63+2  15+2   65  \n",
       "\n",
       "[5 rows x 102 columns]"
      ]
     },
     "execution_count": 2,
     "metadata": {},
     "output_type": "execute_result"
    }
   ],
   "source": [
    "df_fifa = pd.read_csv(\"fifa.csv\")\n",
    "df_fifa.head()"
   ]
  },
  {
   "cell_type": "code",
   "execution_count": 3,
   "id": "3ea07bd4",
   "metadata": {
    "lines_to_next_cell": 2
   },
   "outputs": [
    {
     "data": {
      "text/plain": [
       "0        161lbs\n",
       "1        159lbs\n",
       "2        134lbs\n",
       "3        152lbs\n",
       "4        150lbs\n",
       "          ...  \n",
       "13695    143lbs\n",
       "13696    176lbs\n",
       "13697    146lbs\n",
       "13698    176lbs\n",
       "13699    150lbs\n",
       "Name: Weight, Length: 13700, dtype: object"
      ]
     },
     "execution_count": 3,
     "metadata": {},
     "output_type": "execute_result"
    }
   ],
   "source": [
    "df_fifa[\"Weight\"]"
   ]
  },
  {
   "cell_type": "code",
   "execution_count": 4,
   "id": "f214b5ca",
   "metadata": {},
   "outputs": [
    {
     "data": {
      "text/html": [
       "<div>\n",
       "<style scoped>\n",
       "    .dataframe tbody tr th:only-of-type {\n",
       "        vertical-align: middle;\n",
       "    }\n",
       "\n",
       "    .dataframe tbody tr th {\n",
       "        vertical-align: top;\n",
       "    }\n",
       "\n",
       "    .dataframe thead th {\n",
       "        text-align: right;\n",
       "    }\n",
       "</style>\n",
       "<table border=\"1\" class=\"dataframe\">\n",
       "  <thead>\n",
       "    <tr style=\"text-align: right;\">\n",
       "      <th></th>\n",
       "      <th>Weight</th>\n",
       "      <th>Weight_kg</th>\n",
       "    </tr>\n",
       "  </thead>\n",
       "  <tbody>\n",
       "    <tr>\n",
       "      <th>0</th>\n",
       "      <td>161lbs</td>\n",
       "      <td>73.03</td>\n",
       "    </tr>\n",
       "    <tr>\n",
       "      <th>1</th>\n",
       "      <td>159lbs</td>\n",
       "      <td>72.12</td>\n",
       "    </tr>\n",
       "    <tr>\n",
       "      <th>2</th>\n",
       "      <td>134lbs</td>\n",
       "      <td>60.78</td>\n",
       "    </tr>\n",
       "    <tr>\n",
       "      <th>3</th>\n",
       "      <td>152lbs</td>\n",
       "      <td>68.95</td>\n",
       "    </tr>\n",
       "    <tr>\n",
       "      <th>4</th>\n",
       "      <td>150lbs</td>\n",
       "      <td>68.04</td>\n",
       "    </tr>\n",
       "    <tr>\n",
       "      <th>...</th>\n",
       "      <td>...</td>\n",
       "      <td>...</td>\n",
       "    </tr>\n",
       "    <tr>\n",
       "      <th>13695</th>\n",
       "      <td>143lbs</td>\n",
       "      <td>64.86</td>\n",
       "    </tr>\n",
       "    <tr>\n",
       "      <th>13696</th>\n",
       "      <td>176lbs</td>\n",
       "      <td>79.83</td>\n",
       "    </tr>\n",
       "    <tr>\n",
       "      <th>13697</th>\n",
       "      <td>146lbs</td>\n",
       "      <td>66.22</td>\n",
       "    </tr>\n",
       "    <tr>\n",
       "      <th>13698</th>\n",
       "      <td>176lbs</td>\n",
       "      <td>79.83</td>\n",
       "    </tr>\n",
       "    <tr>\n",
       "      <th>13699</th>\n",
       "      <td>150lbs</td>\n",
       "      <td>68.04</td>\n",
       "    </tr>\n",
       "  </tbody>\n",
       "</table>\n",
       "<p>13700 rows × 2 columns</p>\n",
       "</div>"
      ],
      "text/plain": [
       "       Weight  Weight_kg\n",
       "0      161lbs      73.03\n",
       "1      159lbs      72.12\n",
       "2      134lbs      60.78\n",
       "3      152lbs      68.95\n",
       "4      150lbs      68.04\n",
       "...       ...        ...\n",
       "13695  143lbs      64.86\n",
       "13696  176lbs      79.83\n",
       "13697  146lbs      66.22\n",
       "13698  176lbs      79.83\n",
       "13699  150lbs      68.04\n",
       "\n",
       "[13700 rows x 2 columns]"
      ]
     },
     "execution_count": 4,
     "metadata": {},
     "output_type": "execute_result"
    }
   ],
   "source": [
    "\n",
    "\n",
    "def lbs_to_kgs(weight_info):\n",
    "    return weight_info.str.replace(\"lbs\", \"\").astype(float) * 0.453592\n",
    "\n",
    "\n",
    "df_fifa[\"Weight_kg\"] = lbs_to_kgs(df_fifa[\"Weight\"]).round(2)\n",
    "\n",
    "df_fifa[[\"Weight\", \"Weight_kg\"]]"
   ]
  },
  {
   "cell_type": "code",
   "execution_count": 5,
   "id": "076a76d1",
   "metadata": {},
   "outputs": [
    {
     "data": {
      "text/plain": [
       "0         5'9\"\n",
       "1         6'0\"\n",
       "2         5'4\"\n",
       "3        5'10\"\n",
       "4        5'11\"\n",
       "         ...  \n",
       "13695     5'8\"\n",
       "13696     6'5\"\n",
       "13697     5'7\"\n",
       "13698    5'11\"\n",
       "13699    5'10\"\n",
       "Name: Height, Length: 13700, dtype: object"
      ]
     },
     "execution_count": 5,
     "metadata": {},
     "output_type": "execute_result"
    }
   ],
   "source": [
    "df_fifa.Height"
   ]
  },
  {
   "cell_type": "code",
   "execution_count": null,
   "id": "3fe31070",
   "metadata": {
    "lines_to_next_cell": 2
   },
   "outputs": [],
   "source": []
  },
  {
   "cell_type": "markdown",
   "id": "747775ae",
   "metadata": {
    "lines_to_next_cell": 2
   },
   "source": [
    "asdfasdfasdfasdfasdfasdfasdfasdf\n"
   ]
  },
  {
   "cell_type": "markdown",
   "id": "dab6b170",
   "metadata": {},
   "source": [
    "## Ejercicio manejo de datos y limpieza"
   ]
  },
  {
   "cell_type": "code",
   "execution_count": null,
   "id": "629839e7",
   "metadata": {},
   "outputs": [],
   "source": [
    "def height_imperial_to_metric(s):\n",
    "    s = s.replace('\"', '')\n",
    "    feet, inches = s.split(\"'\")\n",
    "    feet = int(feet)\n",
    "    inches = int(inches)\n",
    "    meters = (feet * 0.3048) + (inches * 0.0254)\n",
    "    return meters"
   ]
  },
  {
   "cell_type": "code",
   "execution_count": null,
   "id": "c873e0de",
   "metadata": {},
   "outputs": [],
   "source": [
    "df_fifa[\"Height Meters\"] = df_fifa[\"Height\"].apply(height_imperial_to_metric)\n",
    "print(df_fifa[['Height', 'Height Meters']])"
   ]
  },
  {
   "cell_type": "markdown",
   "id": "d877af1b",
   "metadata": {},
   "source": [
    "this is normal text"
   ]
  },
  {
   "cell_type": "code",
   "execution_count": null,
   "id": "9b3900f1",
   "metadata": {},
   "outputs": [],
   "source": [
    "df_fifa.columns[3:]"
   ]
  },
  {
   "cell_type": "code",
   "execution_count": null,
   "id": "90ec181d",
   "metadata": {},
   "outputs": [],
   "source": [
    "df_fifa[[\"W/F\", \"SM\", \"A/W\", \"D/W\", \"IR\", \"Value\", \"Wage\"]]"
   ]
  },
  {
   "cell_type": "code",
   "execution_count": null,
   "id": "204fe044",
   "metadata": {},
   "outputs": [],
   "source": [
    "df_fifa[\"SM\"]"
   ]
  },
  {
   "cell_type": "code",
   "execution_count": null,
   "id": "ccc35598",
   "metadata": {},
   "outputs": [],
   "source": [
    "df_fifa[\"SM_clean\"] = df_fifa[\"SM\"].str.replace(r\"\\D\", \"\", regex=True)\n",
    "df_fifa[\"SM_clean\"]"
   ]
  },
  {
   "cell_type": "code",
   "execution_count": null,
   "id": "86126a61",
   "metadata": {},
   "outputs": [],
   "source": []
  }
 ],
 "metadata": {
  "kernelspec": {
   "display_name": "base",
   "language": "python",
   "name": "python3"
  },
  "language_info": {
   "codemirror_mode": {
    "name": "ipython",
    "version": 3
   },
   "file_extension": ".py",
   "mimetype": "text/x-python",
   "name": "python",
   "nbconvert_exporter": "python",
   "pygments_lexer": "ipython3",
   "version": "3.12.8"
  }
 },
 "nbformat": 4,
 "nbformat_minor": 5
}
